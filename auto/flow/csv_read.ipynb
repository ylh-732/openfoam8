{
 "cells": [
  {
   "cell_type": "code",
   "execution_count": 1,
   "metadata": {},
   "outputs": [],
   "source": [
    "import numpy as np"
   ]
  },
  {
   "cell_type": "code",
   "execution_count": 2,
   "metadata": {},
   "outputs": [],
   "source": [
    "nx = 181\n",
    "ny = 121\n",
    "\n",
    "lx = 18\n",
    "ly = 12\n",
    "\n",
    "num = 5"
   ]
  },
  {
   "cell_type": "code",
   "execution_count": 3,
   "metadata": {},
   "outputs": [],
   "source": [
    "x, y = np.meshgrid(np.linspace(0, lx, nx), np.linspace(0, ly, ny))"
   ]
  },
  {
   "cell_type": "code",
   "execution_count": 4,
   "metadata": {},
   "outputs": [],
   "source": [
    "u_all = np.zeros((0, ny * nx))\n",
    "v_all = np.zeros((0, ny * nx))\n",
    "\n",
    "for i in range(1, num + 1):\n",
    "    for j in range(1, num + 1):\n",
    "        file_input = f'snap_{i}_{j}.csv'\n",
    "\n",
    "        data = np.loadtxt(open(file_input,\"rb\"), delimiter=\",\", skiprows=1)\n",
    "        data = data[ny * nx:]\n",
    "\n",
    "        u = data[:, 3].reshape((1, ny * nx))\n",
    "        v = data[:, 4].reshape((1, ny * nx))\n",
    "\n",
    "        u_all = np.vstack((u_all, u))\n",
    "        v_all = np.vstack((v_all, v))      "
   ]
  },
  {
   "cell_type": "code",
   "execution_count": 5,
   "metadata": {},
   "outputs": [],
   "source": [
    "np.save('x', x)\n",
    "np.save('y', y)\n",
    "np.save('u_all', u_all)\n",
    "np.save('v_all', v_all)"
   ]
  }
 ],
 "metadata": {
  "kernelspec": {
   "display_name": "GAN",
   "language": "python",
   "name": "python3"
  },
  "language_info": {
   "codemirror_mode": {
    "name": "ipython",
    "version": 3
   },
   "file_extension": ".py",
   "mimetype": "text/x-python",
   "name": "python",
   "nbconvert_exporter": "python",
   "pygments_lexer": "ipython3",
   "version": "3.10.6"
  }
 },
 "nbformat": 4,
 "nbformat_minor": 4
}
