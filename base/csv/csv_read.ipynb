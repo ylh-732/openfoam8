{
 "cells": [
  {
   "cell_type": "code",
   "execution_count": 1,
   "metadata": {},
   "outputs": [],
   "source": [
    "import numpy as np"
   ]
  },
  {
   "cell_type": "code",
   "execution_count": 2,
   "metadata": {},
   "outputs": [],
   "source": [
    "nx = 181\n",
    "ny = 121\n",
    "\n",
    "lx = 18\n",
    "ly = 12\n",
    "\n",
    "num_x = 35\n",
    "num_y = 23"
   ]
  },
  {
   "cell_type": "code",
   "execution_count": 6,
   "metadata": {},
   "outputs": [],
   "source": [
    "x, y = np.meshgrid(np.linspace(0, lx, nx), np.linspace(0, ly, ny))"
   ]
  },
  {
   "cell_type": "code",
   "execution_count": null,
   "metadata": {},
   "outputs": [],
   "source": [
    "c_all = np.zeros((0, ny * nx))\n",
    "\n",
    "for j in range(1, num_y + 1):\n",
    "    print(j)\n",
    "    for i in range(1, num_x + 1):\n",
    "        file_input = f'snap_{i}_{j}.csv'\n",
    "\n",
    "        data = np.loadtxt(open(file_input,\"rb\"), delimiter=\",\", skiprows=1)\n",
    "        data = data[ny * nx:]\n",
    "\n",
    "        c = data[:, 0].reshape((1, ny * nx))\n",
    "        c = c / np.max(c)\n",
    "\n",
    "        c_all = np.vstack((c_all, c))"
   ]
  },
  {
   "cell_type": "code",
   "execution_count": 8,
   "metadata": {},
   "outputs": [],
   "source": [
    "np.save('x', x)\n",
    "np.save('y', y)\n",
    "np.save('c_all', c_all)"
   ]
  }
 ],
 "metadata": {
  "kernelspec": {
   "display_name": "GAN",
   "language": "python",
   "name": "python3"
  },
  "language_info": {
   "codemirror_mode": {
    "name": "ipython",
    "version": 3
   },
   "file_extension": ".py",
   "mimetype": "text/x-python",
   "name": "python",
   "nbconvert_exporter": "python",
   "pygments_lexer": "ipython3",
   "version": "3.10.6"
  }
 },
 "nbformat": 4,
 "nbformat_minor": 4
}
